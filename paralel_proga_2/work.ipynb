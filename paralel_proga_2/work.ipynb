{
 "cells": [
  {
   "cell_type": "code",
   "execution_count": 3,
   "metadata": {},
   "outputs": [
    {
     "name": "stdout",
     "output_type": "stream",
     "text": [
      "Результаты совпадают\n"
     ]
    }
   ],
   "source": [
    "import numpy as np\n",
    "\n",
    "\n",
    "def read_matrix_from_file(filename):\n",
    "    with open(filename, 'r') as file:\n",
    "        lines = file.readlines()\n",
    "        matrix = [[int(x) for x in line.split()] for line in lines[1:]]\n",
    "    return np.array(matrix)\n",
    "\n",
    "\n",
    "matrix1 = read_matrix_from_file(\"matrix1.txt\")\n",
    "matrix2 = read_matrix_from_file(\"matrix2.txt\")\n",
    "result_matrix_cpp = read_matrix_from_file(\"result_matrix.txt\")\n",
    "\n",
    "result_matrix_numpy = np.dot(matrix1, matrix2)\n",
    "\n",
    "if np.array_equal(result_matrix_numpy, result_matrix_cpp):\n",
    "    print(\"Результаты совпадают\")\n",
    "else:\n",
    "    print(\"Результаты не совпадают\")"
   ]
  },
  {
   "cell_type": "code",
   "execution_count": 14,
   "metadata": {},
   "outputs": [],
   "source": [
    "import matplotlib.pyplot as plt\n",
    "import scipy.stats as sts\n",
    "import statistics as st\n",
    "import pandas as pd\n",
    "\n",
    "\n",
    "def read_results(filename):\n",
    "    sizes = []\n",
    "    computation_times = []\n",
    "    with open(filename, 'r') as file:\n",
    "        while True:\n",
    "            tmp = []\n",
    "            size_line = file.readline().strip()\n",
    "            if not size_line:\n",
    "                break\n",
    "            size = int(size_line)\n",
    "            task_size = int(file.readline().strip())\n",
    "            for i in range(0, 10):\n",
    "                comp_time = file.readline().strip()\n",
    "                if not comp_time:\n",
    "                    break\n",
    "                tmp.append(int(comp_time))\n",
    "\n",
    "            sizes.append(size)\n",
    "            computation_times.append(tmp)\n",
    "    return sizes, computation_times\n",
    "\n",
    "\n",
    "def plot_intervals(sizes, intervals):\n",
    "    means = [interval[0] for interval in intervals]\n",
    "    lower_bounds = [interval[1][0] for interval in intervals]\n",
    "    upper_bounds = [interval[1][1] for interval in intervals]\n",
    "\n",
    "    plt.errorbar(sizes, means, yerr=[(upper-lower)/2 for upper, lower in zip(upper_bounds, lower_bounds)], fmt='o-', capsize=5)\n",
    "    plt.xlabel('Размер матрицы')\n",
    "    plt.ylabel('Время умножения')\n",
    "    plt.grid(True)\n",
    "    plt.show()\n",
    "\n",
    "\n",
    "def get_intervals(computation_times):\n",
    "    gamma = 0.95\n",
    "    intervals = []\n",
    "    for time in computation_times:\n",
    "        n = len(time)\n",
    "        x_mean = np.mean(time)\n",
    "        s = np.sqrt(st.variance(time))\n",
    "        confidence_interval = sts.t.interval(gamma, df=n-1, loc=x_mean, scale=s/np.sqrt(n))\n",
    "        intervals.append([x_mean, confidence_interval])\n",
    "    return intervals\n",
    "\n",
    "\n",
    "\n",
    "sizes, computation_times = read_results(\"stats_1.txt\")\n",
    "arr = pd.DataFrame({\"sizes\":sizes, \"times\":computation_times})\n",
    "intervals = get_intervals(computation_times)"
   ]
  },
  {
   "cell_type": "code",
   "execution_count": 15,
   "metadata": {},
   "outputs": [
    {
     "data": {
      "text/html": [
       "<div>\n",
       "<style scoped>\n",
       "    .dataframe tbody tr th:only-of-type {\n",
       "        vertical-align: middle;\n",
       "    }\n",
       "\n",
       "    .dataframe tbody tr th {\n",
       "        vertical-align: top;\n",
       "    }\n",
       "\n",
       "    .dataframe thead th {\n",
       "        text-align: right;\n",
       "    }\n",
       "</style>\n",
       "<table border=\"1\" class=\"dataframe\">\n",
       "  <thead>\n",
       "    <tr style=\"text-align: right;\">\n",
       "      <th></th>\n",
       "      <th>sizes</th>\n",
       "      <th>times</th>\n",
       "    </tr>\n",
       "  </thead>\n",
       "  <tbody>\n",
       "    <tr>\n",
       "      <th>0</th>\n",
       "      <td>100</td>\n",
       "      <td>[58, 56, 46, 39, 37, 34, 37, 49, 43, 35]</td>\n",
       "    </tr>\n",
       "    <tr>\n",
       "      <th>1</th>\n",
       "      <td>200</td>\n",
       "      <td>[156, 147, 154, 156, 149, 158, 148, 150, 155, ...</td>\n",
       "    </tr>\n",
       "    <tr>\n",
       "      <th>2</th>\n",
       "      <td>300</td>\n",
       "      <td>[381, 386, 382, 396, 381, 394, 387, 382, 408, ...</td>\n",
       "    </tr>\n",
       "    <tr>\n",
       "      <th>3</th>\n",
       "      <td>400</td>\n",
       "      <td>[815, 815, 795, 817, 789, 796, 776, 774, 766, ...</td>\n",
       "    </tr>\n",
       "    <tr>\n",
       "      <th>4</th>\n",
       "      <td>500</td>\n",
       "      <td>[1378, 1390, 1371, 1413, 1371, 1364, 1356, 140...</td>\n",
       "    </tr>\n",
       "    <tr>\n",
       "      <th>5</th>\n",
       "      <td>600</td>\n",
       "      <td>[2231, 2222, 2188, 2213, 2214, 2210, 2251, 219...</td>\n",
       "    </tr>\n",
       "    <tr>\n",
       "      <th>6</th>\n",
       "      <td>700</td>\n",
       "      <td>[3312, 3309, 3379, 3385, 3369, 3426, 3620, 346...</td>\n",
       "    </tr>\n",
       "    <tr>\n",
       "      <th>7</th>\n",
       "      <td>800</td>\n",
       "      <td>[4709, 4935, 5185, 4867, 4687, 4638, 4706, 531...</td>\n",
       "    </tr>\n",
       "    <tr>\n",
       "      <th>8</th>\n",
       "      <td>900</td>\n",
       "      <td>[6496, 6796, 6871, 7746, 6662, 7102, 7553, 650...</td>\n",
       "    </tr>\n",
       "    <tr>\n",
       "      <th>9</th>\n",
       "      <td>1000</td>\n",
       "      <td>[10510, 10454, 10807, 10787, 11195, 11773, 120...</td>\n",
       "    </tr>\n",
       "  </tbody>\n",
       "</table>\n",
       "</div>"
      ],
      "text/plain": [
       "   sizes                                              times\n",
       "0    100           [58, 56, 46, 39, 37, 34, 37, 49, 43, 35]\n",
       "1    200  [156, 147, 154, 156, 149, 158, 148, 150, 155, ...\n",
       "2    300  [381, 386, 382, 396, 381, 394, 387, 382, 408, ...\n",
       "3    400  [815, 815, 795, 817, 789, 796, 776, 774, 766, ...\n",
       "4    500  [1378, 1390, 1371, 1413, 1371, 1364, 1356, 140...\n",
       "5    600  [2231, 2222, 2188, 2213, 2214, 2210, 2251, 219...\n",
       "6    700  [3312, 3309, 3379, 3385, 3369, 3426, 3620, 346...\n",
       "7    800  [4709, 4935, 5185, 4867, 4687, 4638, 4706, 531...\n",
       "8    900  [6496, 6796, 6871, 7746, 6662, 7102, 7553, 650...\n",
       "9   1000  [10510, 10454, 10807, 10787, 11195, 11773, 120..."
      ]
     },
     "execution_count": 15,
     "metadata": {},
     "output_type": "execute_result"
    }
   ],
   "source": [
    "arr"
   ]
  },
  {
   "cell_type": "code",
   "execution_count": 16,
   "metadata": {},
   "outputs": [
    {
     "data": {
      "image/png": "[encoded data removed]",
      "text/plain": [
       "<Figure size 640x480 with 1 Axes>"
      ]
     },
     "metadata": {},
     "output_type": "display_data"
    }
   ],
   "source": [
    "\n",
    "plot_intervals(sizes, intervals)"
   ]
  }
 ],
 "metadata": {
  "kernelspec": {
   "display_name": ".venv",
   "language": "python",
   "name": "python3"
  },
  "language_info": {
   "codemirror_mode": {
    "name": "ipython",
    "version": 3
   },
   "file_extension": ".py",
   "mimetype": "text/x-python",
   "name": "python",
   "nbconvert_exporter": "python",
   "pygments_lexer": "ipython3",
   "version": "3.9.13"
  }
 },
 "nbformat": 4,
 "nbformat_minor": 2
}
